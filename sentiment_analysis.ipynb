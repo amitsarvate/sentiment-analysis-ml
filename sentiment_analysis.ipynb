{
 "cells": [
  {
   "cell_type": "markdown",
   "metadata": {},
   "source": [
    "# Machine Learning Final Project: Sentiment Analysis (Fall 2024)"
   ]
  },
  {
   "cell_type": "markdown",
   "metadata": {},
   "source": [
    "**Group Members**\n",
    "\n",
    "* Amit Sarvate (100794129)\n",
    "* Nirujan Velvarathan (100706828)\n"
   ]
  },
  {
   "cell_type": "markdown",
   "metadata": {},
   "source": [
    "**Overview**\n",
    "\n",
    "* We aim to classify movie reviews into positive or negative sentiments using a large, popular dataset containing 50,000 instances. \n",
    "* To achieve this, we will experiment with three different network architectures: \n",
    "    * a Feedforward Neural Network with pre-trained embeddings, \n",
    "    * a Convolutional Neural Network (CNN), \n",
    "    * and a Gated Recurrent Unit (GRU). \n",
    "* The goal is to compare their performance on sentiment classification and identify the most effective model. \n",
    "* Additionally, we will develop an application where users can input a review and receive a sentiment prediction."
   ]
  },
  {
   "cell_type": "markdown",
   "metadata": {},
   "source": [
    "### Importing External Libraries\n",
    "\n",
    "In order to preprocess data as well as build, train and test our models - we will require various different essential ML libraries including pandas, sklearn, torch, and keras"
   ]
  },
  {
   "cell_type": "markdown",
   "metadata": {},
   "source": [
    "---"
   ]
  },
  {
   "cell_type": "code",
   "execution_count": 1,
   "metadata": {},
   "outputs": [],
   "source": [
    "import numpy as np\n",
    "import pandas as pd\n",
    "from sklearn.model_selection import train_test_split\n",
    "import torch\n",
    "from torch import nn\n",
    "from torch.utils.data import DataLoader, Dataset\n",
    "from torch.nn.utils.rnn import pad_sequence\n",
    "from sklearn.preprocessing import LabelEncoder\n",
    "import models\n",
    "from importlib import reload\n",
    "import time\n",
    "from sklearn.metrics import precision_score, recall_score, f1_score\n",
    "import json\n"
   ]
  },
  {
   "cell_type": "markdown",
   "metadata": {},
   "source": [
    "# 1. Loading Dataset and Processing Data"
   ]
  },
  {
   "cell_type": "code",
   "execution_count": 2,
   "metadata": {},
   "outputs": [
    {
     "name": "stderr",
     "output_type": "stream",
     "text": [
      "C:\\Users\\Nirujan\\AppData\\Local\\Temp\\ipykernel_12760\\1492371365.py:43: UserWarning: To copy construct from a tensor, it is recommended to use sourceTensor.clone().detach() or sourceTensor.clone().detach().requires_grad_(True), rather than torch.tensor(sourceTensor).\n",
      "  X_train_pad = torch.tensor(X_train_pad, dtype=torch.long)\n",
      "C:\\Users\\Nirujan\\AppData\\Local\\Temp\\ipykernel_12760\\1492371365.py:44: UserWarning: To copy construct from a tensor, it is recommended to use sourceTensor.clone().detach() or sourceTensor.clone().detach().requires_grad_(True), rather than torch.tensor(sourceTensor).\n",
      "  X_test_pad = torch.tensor(X_test_pad, dtype=torch.long)\n"
     ]
    }
   ],
   "source": [
    "#Data Processing\n",
    "\n",
    "# Load dataset\n",
    "dataset = pd.read_csv(\"data/IMDB Dataset.csv\")\n",
    "\n",
    "# Preprocess data\n",
    "dataset['sentiment'] = dataset['sentiment'].map({'positive': 1, 'negative': 0})\n",
    "reviews = dataset['review'].values\n",
    "sentiments = dataset['sentiment'].values\n",
    "\n",
    "# Split the dataset into training and testing sets\n",
    "X_train, X_test, y_train, y_test = train_test_split(reviews, sentiments, test_size=0.2, random_state=42)\n",
    "\n",
    "# Tokenizer and sequence preparation\n",
    "from collections import Counter\n",
    "from itertools import chain\n",
    "\n",
    "# Tokenizer class\n",
    "def build_vocab(sentences, max_words=10000):\n",
    "    words = chain.from_iterable(sentence.split() for sentence in sentences)\n",
    "    most_common = Counter(words).most_common(max_words - 2)  # Reserve 2 for padding/unknown\n",
    "    vocab = {word: idx + 2 for idx, (word, _) in enumerate(most_common)}\n",
    "    vocab['<PAD>'] = 0\n",
    "    vocab['<UNK>'] = 1\n",
    "    return vocab\n",
    "\n",
    "vocab = build_vocab(X_train)\n",
    "def tokenize(sentences, vocab):\n",
    "    return [[vocab.get(word, vocab['<UNK>']) for word in sentence.split()] for sentence in sentences]\n",
    "\n",
    "X_train_seq = tokenize(X_train, vocab)\n",
    "X_test_seq = tokenize(X_test, vocab)\n",
    "\n",
    "# Pad sequences\n",
    "def pad_sequences(sequences, maxlen):\n",
    "    return pad_sequence([torch.tensor(seq[:maxlen]) for seq in sequences], batch_first=True, padding_value=0)\n",
    "\n",
    "max_len = 100\n",
    "X_train_pad = pad_sequences(X_train_seq, max_len)\n",
    "X_test_pad = pad_sequences(X_test_seq, max_len)\n",
    "\n",
    "# Convert to tensors\n",
    "X_train_pad = torch.tensor(X_train_pad, dtype=torch.long)\n",
    "X_test_pad = torch.tensor(X_test_pad, dtype=torch.long)\n",
    "y_train = torch.tensor(y_train, dtype=torch.float32)\n",
    "y_test = torch.tensor(y_test, dtype=torch.float32)\n",
    "\n",
    "# Dataset and DataLoader class\n",
    "class SentimentDataset(Dataset):\n",
    "    def __init__(self, X, y):\n",
    "        self.X = X\n",
    "        self.y = y\n",
    "\n",
    "    def __len__(self):\n",
    "        return len(self.y)\n",
    "\n",
    "    def __getitem__(self, idx):\n",
    "        return self.X[idx], self.y[idx]\n",
    "\n",
    "train_dataset = SentimentDataset(X_train_pad, y_train)\n",
    "test_dataset = SentimentDataset(X_test_pad, y_test)\n",
    "\n",
    "train_loader = DataLoader(train_dataset, batch_size=16, shuffle=True)\n",
    "test_loader = DataLoader(test_dataset, batch_size=16, shuffle=False)"
   ]
  },
  {
   "cell_type": "markdown",
   "metadata": {},
   "source": [
    "# Evaluating and Training Model Functions"
   ]
  },
  {
   "cell_type": "code",
   "execution_count": 3,
   "metadata": {},
   "outputs": [],
   "source": [
    "def train_model(model, train_loader, criterion, optimizer, epochs):\n",
    "    model.train()\n",
    "    for epoch in range(epochs):\n",
    "        total_loss = 0\n",
    "        for X_batch, y_batch in train_loader:\n",
    "            optimizer.zero_grad()\n",
    "            outputs = model(X_batch)  # Remove .float() for inputs to the embedding layer\n",
    "            loss = criterion(outputs, y_batch)\n",
    "            loss.backward()\n",
    "            \"\"\"for name, param in model.named_parameters():\n",
    "                if param.requires_grad:\n",
    "                    print(f\"{name}: {param.grad}\")\"\"\"\n",
    "            optimizer.step()\n",
    "            total_loss += loss.item()\n",
    "        print(f\"Epoch {epoch+1}/{epochs}, Loss: {total_loss / len(train_loader):.4f}\")\n",
    "\n",
    "\n",
    "def evaluate_metrics(model, test_loader):\n",
    "    model.eval()\n",
    "    all_predictions = []\n",
    "    all_labels = []\n",
    "    with torch.no_grad():\n",
    "        for X_batch, y_batch in test_loader:\n",
    "            outputs = torch.sigmoid(model(X_batch))\n",
    "            predictions = (outputs > 0.5).int()\n",
    "            all_predictions.extend(predictions.cpu().numpy())\n",
    "            all_labels.extend(y_batch.cpu().numpy())\n",
    "\n",
    "    # Compute metrics\n",
    "    accuracy = sum(np.array(all_predictions) == np.array(all_labels)) / len(all_labels)\n",
    "    precision = precision_score(all_labels, all_predictions)\n",
    "    recall = recall_score(all_labels, all_predictions)\n",
    "    f1 = f1_score(all_labels, all_predictions)\n",
    "    return accuracy, precision, recall, f1"
   ]
  },
  {
   "cell_type": "markdown",
   "metadata": {},
   "source": [
    "# Initialize Models"
   ]
  },
  {
   "cell_type": "code",
   "execution_count": 4,
   "metadata": {},
   "outputs": [
    {
     "name": "stderr",
     "output_type": "stream",
     "text": [
      "c:\\Users\\Nirujan\\Documents\\GitHub\\sentiment-analysis-ml\\new_env\\lib\\site-packages\\torch\\nn\\modules\\rnn.py:82: UserWarning: dropout option adds dropout after all but last recurrent layer, so non-zero dropout expects num_layers greater than 1, but got dropout=0.5 and num_layers=1\n",
      "  warnings.warn(\"dropout option adds dropout after all but last \"\n"
     ]
    }
   ],
   "source": [
    "#Initialization\n",
    "\n",
    "vocab_size = len(vocab)\n",
    "embed_dim = 100\n",
    "hidden_dim = 128\n",
    "output_dim = 1  # Binary classification\n",
    "num_filters = 128\n",
    "kernel_sizes = [3, 4, 5]\n",
    "num_layers = 1\n",
    "max_len = 100\n",
    "\n",
    "# Model initialization\n",
    "reload(models)\n",
    "modelFNN = models.FeedforwardNeuralNetwork(vocab_size, embed_dim, hidden_dim, output_dim, max_len)\n",
    "modelCNN = models.ConvolutionalNeuralNetwork(vocab_size, embed_dim, num_filters, kernel_sizes, output_dim)\n",
    "modelGRU = models.GatedRecurrentUnit(vocab_size, embed_dim, hidden_dim, num_layers, output_dim)"
   ]
  },
  {
   "cell_type": "markdown",
   "metadata": {},
   "source": [
    "# Training Models"
   ]
  },
  {
   "cell_type": "markdown",
   "metadata": {},
   "source": [
    "## Feed Forward Neural Network"
   ]
  },
  {
   "cell_type": "code",
   "execution_count": 6,
   "metadata": {},
   "outputs": [
    {
     "name": "stdout",
     "output_type": "stream",
     "text": [
      "Epoch 1/5, Loss: 0.6318\n",
      "Epoch 2/5, Loss: 0.3384\n",
      "Epoch 3/5, Loss: 0.0859\n",
      "Epoch 4/5, Loss: 0.0298\n",
      "Epoch 5/5, Loss: 0.0274\n"
     ]
    }
   ],
   "source": [
    "#FNN\n",
    "criterion = nn.BCEWithLogitsLoss()\n",
    "optimizer = torch.optim.AdamW(modelFNN.parameters(), lr=0.001)\n",
    "start_time = time.time()\n",
    "train_model(modelFNN, train_loader, criterion, optimizer, epochs=5)\n",
    "fnn_training_time = time.time() - start_time\n"
   ]
  },
  {
   "cell_type": "markdown",
   "metadata": {},
   "source": [
    "## CNN"
   ]
  },
  {
   "cell_type": "code",
   "execution_count": 8,
   "metadata": {},
   "outputs": [
    {
     "name": "stdout",
     "output_type": "stream",
     "text": [
      "Epoch 1/5, Loss: 0.6251\n",
      "Epoch 2/5, Loss: 0.4770\n",
      "Epoch 3/5, Loss: 0.3898\n",
      "Epoch 4/5, Loss: 0.3305\n",
      "Epoch 5/5, Loss: 0.2733\n"
     ]
    }
   ],
   "source": [
    "\n",
    "# Train and evaluate CNN\n",
    "optimizer = torch.optim.AdamW(modelCNN.parameters(), lr=0.001)\n",
    "start_time = time.time()\n",
    "train_model(modelCNN, train_loader, criterion, optimizer, epochs=5)\n",
    "cnn_training_time = time.time() - start_time\n"
   ]
  },
  {
   "cell_type": "markdown",
   "metadata": {},
   "source": [
    "## GRU"
   ]
  },
  {
   "cell_type": "code",
   "execution_count": 7,
   "metadata": {},
   "outputs": [
    {
     "name": "stdout",
     "output_type": "stream",
     "text": [
      "Epoch 1/5, Loss: 0.5575\n",
      "Epoch 2/5, Loss: 0.3783\n",
      "Epoch 3/5, Loss: 0.2951\n",
      "Epoch 4/5, Loss: 0.2145\n",
      "Epoch 5/5, Loss: 0.1418\n"
     ]
    }
   ],
   "source": [
    "# Train and evaluate GRU\n",
    "optimizer = torch.optim.AdamW(modelGRU.parameters(), lr=0.001)\n",
    "start_time = time.time()\n",
    "train_model(modelGRU, train_loader, criterion, optimizer, epochs=5)\n",
    "gru_training_time = time.time() - start_time"
   ]
  },
  {
   "cell_type": "markdown",
   "metadata": {},
   "source": [
    "# Evaluation"
   ]
  },
  {
   "cell_type": "code",
   "execution_count": 9,
   "metadata": {},
   "outputs": [],
   "source": [
    "# Evaluation\n",
    "results = {\"Model\": [], \"Accuracy\": [], \"Precision\": [], \"Recall\": [], \"F1-Score\": [], \"Training Time (s)\": []}\n",
    "\n",
    "#FNN\n",
    "\n",
    "fnn_accuracy, fnn_precision, fnn_recall, fnn_f1 = evaluate_metrics(modelFNN, test_loader)\n",
    "\n",
    "results[\"Model\"].append(\"FNN\")\n",
    "results[\"Accuracy\"].append(fnn_accuracy)\n",
    "results[\"Precision\"].append(fnn_precision)\n",
    "results[\"Recall\"].append(fnn_recall)\n",
    "results[\"F1-Score\"].append(fnn_f1)\n",
    "results[\"Training Time (s)\"].append(fnn_training_time)\n"
   ]
  },
  {
   "cell_type": "code",
   "execution_count": 10,
   "metadata": {},
   "outputs": [],
   "source": [
    "\n",
    "\n",
    "cnn_accuracy, cnn_precision, cnn_recall, cnn_f1 = evaluate_metrics(modelCNN, test_loader)\n",
    "\n",
    "# Add CNN results to the table\n",
    "results[\"Model\"].append(\"CNN\")\n",
    "results[\"Accuracy\"].append(cnn_accuracy)\n",
    "results[\"Precision\"].append(cnn_precision)\n",
    "results[\"Recall\"].append(cnn_recall)\n",
    "results[\"F1-Score\"].append(cnn_f1)\n",
    "results[\"Training Time (s)\"].append(cnn_training_time)\n"
   ]
  },
  {
   "cell_type": "code",
   "execution_count": 11,
   "metadata": {},
   "outputs": [
    {
     "name": "stdout",
     "output_type": "stream",
     "text": [
      "  Model  Accuracy  Precision    Recall  F1-Score  Training Time (s)\n",
      "0   FNN    0.7398   0.749949  0.725541  0.737543         113.295583\n",
      "1   CNN    0.8116   0.822004  0.799167  0.810425         193.220437\n",
      "2   GRU    0.8216   0.827795  0.815638  0.821671         880.600923\n"
     ]
    }
   ],
   "source": [
    "\n",
    "\n",
    "gru_accuracy, gru_precision, gru_recall, gru_f1 = evaluate_metrics(modelGRU, test_loader)\n",
    "\n",
    "# Add GRU results to the table\n",
    "results[\"Model\"].append(\"GRU\")\n",
    "results[\"Accuracy\"].append(gru_accuracy)\n",
    "results[\"Precision\"].append(gru_precision)\n",
    "results[\"Recall\"].append(gru_recall)\n",
    "results[\"F1-Score\"].append(gru_f1)\n",
    "results[\"Training Time (s)\"].append(gru_training_time)\n",
    "\n",
    "# Convert results to a DataFrame\n",
    "\n",
    "results_df = pd.DataFrame(results)\n",
    "print(results_df)"
   ]
  },
  {
   "cell_type": "markdown",
   "metadata": {},
   "source": [
    "# Visualization"
   ]
  },
  {
   "cell_type": "markdown",
   "metadata": {},
   "source": [
    "---"
   ]
  },
  {
   "cell_type": "code",
   "execution_count": 12,
   "metadata": {},
   "outputs": [
    {
     "data": {
      "image/png": "[encoded data removed]",
      "text/plain": [
       "<Figure size 640x480 with 1 Axes>"
      ]
     },
     "metadata": {},
     "output_type": "display_data"
    }
   ],
   "source": [
    "#Visualization\n",
    "import matplotlib.pyplot as plt\n",
    "import numpy as np\n",
    "\n",
    "# Bar Plot for Metrics\n",
    "metrics = [\"Accuracy\", \"Precision\", \"Recall\", \"F1-Score\"]\n",
    "x = np.arange(len(metrics))  # Metric indices\n",
    "width = 0.25  # Bar width\n",
    "\n",
    "# Extract metrics for each model\n",
    "fnn_metrics = [fnn_accuracy, fnn_precision, fnn_recall, fnn_f1]\n",
    "cnn_metrics = [cnn_accuracy, cnn_precision, cnn_recall, cnn_f1]\n",
    "gru_metrics = [gru_accuracy, gru_precision, gru_recall, gru_f1]\n",
    "\n",
    "# Plot\n",
    "plt.bar(x - width, fnn_metrics, width, label=\"FNN\")\n",
    "plt.bar(x, cnn_metrics, width, label=\"CNN\")\n",
    "plt.bar(x + width, gru_metrics, width, label=\"GRU\")\n",
    "\n",
    "# Formatting\n",
    "plt.xlabel(\"Metrics\")\n",
    "plt.ylabel(\"Scores\")\n",
    "plt.title(\"Model Performance Comparison\")\n",
    "plt.xticks(x, metrics)\n",
    "plt.legend()\n",
    "plt.show()"
   ]
  },
  {
   "cell_type": "code",
   "execution_count": 13,
   "metadata": {},
   "outputs": [
    {
     "data": {
      "image/png": "[encoded data removed]",
      "text/plain": [
       "<Figure size 640x480 with 1 Axes>"
      ]
     },
     "metadata": {},
     "output_type": "display_data"
    }
   ],
   "source": [
    "# Bar Plot for Training Time\n",
    "training_times = [fnn_training_time, cnn_training_time, gru_training_time]\n",
    "models = [\"FNN\", \"CNN\", \"GRU\"]\n",
    "\n",
    "plt.bar(models, training_times, color=[\"blue\", \"green\", \"red\"])\n",
    "plt.xlabel(\"Models\")\n",
    "plt.ylabel(\"Training Time (seconds)\")\n",
    "plt.title(\"Training Time Comparison\")\n",
    "plt.show()"
   ]
  },
  {
   "cell_type": "markdown",
   "metadata": {},
   "source": [
    "# Saving Models for App"
   ]
  },
  {
   "cell_type": "code",
   "execution_count": 14,
   "metadata": {},
   "outputs": [],
   "source": [
    "torch.save(modelFNN.state_dict(), \"fnn_sentiment_model.pth\")\n",
    "torch.save(modelCNN.state_dict(), \"cnn_sentiment_model.pth\")\n",
    "torch.save(modelGRU.state_dict(), \"gru_sentiment_model.pth\")\n"
   ]
  },
  {
   "cell_type": "code",
   "execution_count": 15,
   "metadata": {},
   "outputs": [],
   "source": [
    "with open(\"vocab.json\", \"w\") as f:\n",
    "    json.dump(vocab, f)"
   ]
  }
 ],
 "metadata": {
  "kernelspec": {
   "display_name": "new_env",
   "language": "python",
   "name": "python3"
  },
  "language_info": {
   "codemirror_mode": {
    "name": "ipython",
    "version": 3
   },
   "file_extension": ".py",
   "mimetype": "text/x-python",
   "name": "python",
   "nbconvert_exporter": "python",
   "pygments_lexer": "ipython3",
   "version": "3.10.9"
  }
 },
 "nbformat": 4,
 "nbformat_minor": 4
}
